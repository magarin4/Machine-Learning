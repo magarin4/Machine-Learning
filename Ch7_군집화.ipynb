{
 "cells": [
  {
   "cell_type": "markdown",
   "metadata": {},
   "source": [
    "## CH7. 군집화"
   ]
  },
  {
   "cell_type": "code",
   "execution_count": 1,
   "metadata": {},
   "outputs": [
    {
     "data": {
      "text/html": [
       "<div>\n",
       "<style scoped>\n",
       "    .dataframe tbody tr th:only-of-type {\n",
       "        vertical-align: middle;\n",
       "    }\n",
       "\n",
       "    .dataframe tbody tr th {\n",
       "        vertical-align: top;\n",
       "    }\n",
       "\n",
       "    .dataframe thead th {\n",
       "        text-align: right;\n",
       "    }\n",
       "</style>\n",
       "<table border=\"1\" class=\"dataframe\">\n",
       "  <thead>\n",
       "    <tr style=\"text-align: right;\">\n",
       "      <th></th>\n",
       "      <th>sepal_length</th>\n",
       "      <th>sepal_width</th>\n",
       "      <th>petal_length</th>\n",
       "      <th>petal_width</th>\n",
       "    </tr>\n",
       "  </thead>\n",
       "  <tbody>\n",
       "    <tr>\n",
       "      <th>0</th>\n",
       "      <td>5.1</td>\n",
       "      <td>3.5</td>\n",
       "      <td>1.4</td>\n",
       "      <td>0.2</td>\n",
       "    </tr>\n",
       "    <tr>\n",
       "      <th>1</th>\n",
       "      <td>4.9</td>\n",
       "      <td>3.0</td>\n",
       "      <td>1.4</td>\n",
       "      <td>0.2</td>\n",
       "    </tr>\n",
       "    <tr>\n",
       "      <th>2</th>\n",
       "      <td>4.7</td>\n",
       "      <td>3.2</td>\n",
       "      <td>1.3</td>\n",
       "      <td>0.2</td>\n",
       "    </tr>\n",
       "  </tbody>\n",
       "</table>\n",
       "</div>"
      ],
      "text/plain": [
       "   sepal_length  sepal_width  petal_length  petal_width\n",
       "0           5.1          3.5           1.4          0.2\n",
       "1           4.9          3.0           1.4          0.2\n",
       "2           4.7          3.2           1.3          0.2"
      ]
     },
     "execution_count": 1,
     "metadata": {},
     "output_type": "execute_result"
    }
   ],
   "source": [
    "from sklearn.preprocessing import scale\n",
    "from sklearn.datasets import load_iris\n",
    "from sklearn.cluster import KMeans\n",
    "import matplotlib.pyplot as plt\n",
    "import numpy as np\n",
    "import pandas as pd\n",
    "%matplotlib inline\n",
    "\n",
    "iris = load_iris()\n",
    "irisDF = pd.DataFrame(data=iris.data, columns=['sepal_length', 'sepal_width', 'petal_length', 'petal_width'])\n",
    "irisDF.head(3)"
   ]
  },
  {
   "cell_type": "code",
   "execution_count": 2,
   "metadata": {},
   "outputs": [
    {
     "data": {
      "text/html": [
       "<div>\n",
       "<style scoped>\n",
       "    .dataframe tbody tr th:only-of-type {\n",
       "        vertical-align: middle;\n",
       "    }\n",
       "\n",
       "    .dataframe tbody tr th {\n",
       "        vertical-align: top;\n",
       "    }\n",
       "\n",
       "    .dataframe thead th {\n",
       "        text-align: right;\n",
       "    }\n",
       "</style>\n",
       "<table border=\"1\" class=\"dataframe\">\n",
       "  <thead>\n",
       "    <tr style=\"text-align: right;\">\n",
       "      <th></th>\n",
       "      <th>sepal_length</th>\n",
       "      <th>sepal_width</th>\n",
       "      <th>petal_length</th>\n",
       "      <th>petal_width</th>\n",
       "      <th>pca_x</th>\n",
       "      <th>pca_y</th>\n",
       "    </tr>\n",
       "  </thead>\n",
       "  <tbody>\n",
       "    <tr>\n",
       "      <th>0</th>\n",
       "      <td>5.1</td>\n",
       "      <td>3.5</td>\n",
       "      <td>1.4</td>\n",
       "      <td>0.2</td>\n",
       "      <td>-2.684126</td>\n",
       "      <td>0.319397</td>\n",
       "    </tr>\n",
       "    <tr>\n",
       "      <th>1</th>\n",
       "      <td>4.9</td>\n",
       "      <td>3.0</td>\n",
       "      <td>1.4</td>\n",
       "      <td>0.2</td>\n",
       "      <td>-2.714142</td>\n",
       "      <td>-0.177001</td>\n",
       "    </tr>\n",
       "    <tr>\n",
       "      <th>2</th>\n",
       "      <td>4.7</td>\n",
       "      <td>3.2</td>\n",
       "      <td>1.3</td>\n",
       "      <td>0.2</td>\n",
       "      <td>-2.888991</td>\n",
       "      <td>-0.144949</td>\n",
       "    </tr>\n",
       "  </tbody>\n",
       "</table>\n",
       "</div>"
      ],
      "text/plain": [
       "   sepal_length  sepal_width  petal_length  petal_width     pca_x     pca_y\n",
       "0           5.1          3.5           1.4          0.2 -2.684126  0.319397\n",
       "1           4.9          3.0           1.4          0.2 -2.714142 -0.177001\n",
       "2           4.7          3.2           1.3          0.2 -2.888991 -0.144949"
      ]
     },
     "execution_count": 2,
     "metadata": {},
     "output_type": "execute_result"
    }
   ],
   "source": [
    "from sklearn.decomposition import PCA\n",
    "\n",
    "pca = PCA(n_components=2)\n",
    "pca_transformed = pca.fit_transform(iris.data)\n",
    "\n",
    "irisDF['pca_x'] = pca_transformed[:,0]\n",
    "irisDF['pca_y'] = pca_transformed[:,1]\n",
    "irisDF.head(3)"
   ]
  },
  {
   "cell_type": "code",
   "execution_count": 3,
   "metadata": {},
   "outputs": [
    {
     "data": {
      "text/plain": [
       "KMeans(algorithm='auto', copy_x=True, init='k-means++', max_iter=300,\n",
       "       n_clusters=3, n_init=10, n_jobs=None, precompute_distances='auto',\n",
       "       random_state=0, tol=0.0001, verbose=0)"
      ]
     },
     "execution_count": 3,
     "metadata": {},
     "output_type": "execute_result"
    }
   ],
   "source": [
    "kmeans = KMeans(n_clusters=3, init='k-means++', max_iter=300, random_state=0)\n",
    "kmeans.fit(irisDF)"
   ]
  },
  {
   "cell_type": "code",
   "execution_count": 4,
   "metadata": {},
   "outputs": [
    {
     "name": "stdout",
     "output_type": "stream",
     "text": [
      "target  cluster\n",
      "0       1          50\n",
      "1       0           3\n",
      "        2          47\n",
      "2       0          36\n",
      "        2          14\n",
      "Name: sepal_length, dtype: int64\n"
     ]
    }
   ],
   "source": [
    "irisDF['target'] = iris.target\n",
    "irisDF['cluster'] = kmeans.labels_\n",
    "iris_result = irisDF.groupby(['target','cluster'])['sepal_length'].count()\n",
    "print(iris_result)"
   ]
  },
  {
   "cell_type": "code",
   "execution_count": 5,
   "metadata": {},
   "outputs": [
    {
     "data": {
      "text/html": [
       "<div>\n",
       "<style scoped>\n",
       "    .dataframe tbody tr th:only-of-type {\n",
       "        vertical-align: middle;\n",
       "    }\n",
       "\n",
       "    .dataframe tbody tr th {\n",
       "        vertical-align: top;\n",
       "    }\n",
       "\n",
       "    .dataframe thead th {\n",
       "        text-align: right;\n",
       "    }\n",
       "</style>\n",
       "<table border=\"1\" class=\"dataframe\">\n",
       "  <thead>\n",
       "    <tr style=\"text-align: right;\">\n",
       "      <th></th>\n",
       "      <th>sepal_length</th>\n",
       "      <th>sepal_width</th>\n",
       "      <th>petal_length</th>\n",
       "      <th>petal_width</th>\n",
       "      <th>pca_x</th>\n",
       "      <th>pca_y</th>\n",
       "      <th>target</th>\n",
       "      <th>cluster</th>\n",
       "    </tr>\n",
       "  </thead>\n",
       "  <tbody>\n",
       "    <tr>\n",
       "      <th>0</th>\n",
       "      <td>5.1</td>\n",
       "      <td>3.5</td>\n",
       "      <td>1.4</td>\n",
       "      <td>0.2</td>\n",
       "      <td>-2.684126</td>\n",
       "      <td>0.319397</td>\n",
       "      <td>0</td>\n",
       "      <td>1</td>\n",
       "    </tr>\n",
       "    <tr>\n",
       "      <th>1</th>\n",
       "      <td>4.9</td>\n",
       "      <td>3.0</td>\n",
       "      <td>1.4</td>\n",
       "      <td>0.2</td>\n",
       "      <td>-2.714142</td>\n",
       "      <td>-0.177001</td>\n",
       "      <td>0</td>\n",
       "      <td>1</td>\n",
       "    </tr>\n",
       "    <tr>\n",
       "      <th>2</th>\n",
       "      <td>4.7</td>\n",
       "      <td>3.2</td>\n",
       "      <td>1.3</td>\n",
       "      <td>0.2</td>\n",
       "      <td>-2.888991</td>\n",
       "      <td>-0.144949</td>\n",
       "      <td>0</td>\n",
       "      <td>1</td>\n",
       "    </tr>\n",
       "  </tbody>\n",
       "</table>\n",
       "</div>"
      ],
      "text/plain": [
       "   sepal_length  sepal_width  petal_length  petal_width     pca_x     pca_y  \\\n",
       "0           5.1          3.5           1.4          0.2 -2.684126  0.319397   \n",
       "1           4.9          3.0           1.4          0.2 -2.714142 -0.177001   \n",
       "2           4.7          3.2           1.3          0.2 -2.888991 -0.144949   \n",
       "\n",
       "   target  cluster  \n",
       "0       0        1  \n",
       "1       0        1  \n",
       "2       0        1  "
      ]
     },
     "execution_count": 5,
     "metadata": {},
     "output_type": "execute_result"
    }
   ],
   "source": [
    "from sklearn.decomposition import PCA\n",
    "\n",
    "pca = PCA(n_components=2)\n",
    "pca_transformed = pca.fit_transform(iris.data)\n",
    "\n",
    "irisDF['pca_x'] = pca_transformed[:,0]\n",
    "irisDF['pca_y'] = pca_transformed[:,1]\n",
    "irisDF.head(3)"
   ]
  },
  {
   "cell_type": "code",
   "execution_count": 6,
   "metadata": {},
   "outputs": [
    {
     "data": {
      "image/png": "[encoded data removed]",
      "text/plain": [
       "<Figure size 432x288 with 1 Axes>"
      ]
     },
     "metadata": {
      "needs_background": "light"
     },
     "output_type": "display_data"
    }
   ],
   "source": [
    "#군집 값이 0,1,2,인 경우마다 별도의 인덱스로 추출\n",
    "marker0_ind = irisDF[irisDF['cluster']==0].index\n",
    "marker1_ind = irisDF[irisDF['cluster']==1].index\n",
    "marker2_ind = irisDF[irisDF['cluster']==2].index\n",
    "\n",
    "#군집 값 0,1,2,에 해당하는 인덱스로 각 군집 레벨의 pca_x,pca_y값 추출. o, s, ^로 마커 표시\n",
    "plt.scatter(x=irisDF.loc[marker0_ind, 'pca_x'], y=irisDF.loc[marker0_ind, 'pca_y'], marker='o')\n",
    "plt.scatter(x=irisDF.loc[marker1_ind, 'pca_x'], y=irisDF.loc[marker1_ind, 'pca_y'], marker='s')\n",
    "plt.scatter(x=irisDF.loc[marker2_ind, 'pca_x'], y=irisDF.loc[marker2_ind, 'pca_y'], marker='^')\n",
    "\n",
    "plt.xlabel('PCA 1')\n",
    "plt.xlabel('PCA 2')\n",
    "plt.title('3 Clusters Visiualzation by PCA Components')\n",
    "plt.show()"
   ]
  },
  {
   "cell_type": "code",
   "execution_count": 16,
   "metadata": {},
   "outputs": [
    {
     "name": "stdout",
     "output_type": "stream",
     "text": [
      "(200, 2) (200,)\n",
      "[[-1.69242695  3.62202539]\n",
      " [ 0.69794036  4.4288665 ]\n",
      " [ 1.10022802  4.60631734]\n",
      " [-1.44872404  3.38424521]\n",
      " [ 1.21486062  5.36489604]\n",
      " [-0.90830163  1.97077775]\n",
      " [ 2.47211942  0.43703328]\n",
      " [ 1.65684156  2.4412893 ]\n",
      " [ 1.07779975  4.62537882]\n",
      " [-1.67942681  2.60200265]\n",
      " [ 0.65372852  5.28174338]\n",
      " [-0.97188549  2.79022351]\n",
      " [ 1.58510026  4.40112734]\n",
      " [ 1.29307545  3.42933812]\n",
      " [ 0.25043139  4.34534364]\n",
      " [-1.07307179  2.73974218]\n",
      " [ 2.68432989  0.52452838]\n",
      " [ 2.16883005  0.64220093]\n",
      " [ 0.32575305  2.92276125]\n",
      " [-3.15145159  4.56947655]\n",
      " [-1.06408682  3.19760583]\n",
      " [ 1.45946366  0.23651283]\n",
      " [ 1.01287689  4.15404025]\n",
      " [ 1.73407165  4.17977925]\n",
      " [-3.3313554   2.09987679]\n",
      " [-0.3148482   4.1335951 ]\n",
      " [ 1.5403728  -0.88105886]\n",
      " [-2.13821915  1.76764908]\n",
      " [-0.84056487  3.83076375]\n",
      " [-1.57620513  2.83203804]\n",
      " [ 1.34880003  3.07479238]\n",
      " [ 0.9846701   5.73248372]\n",
      " [-1.56064117  2.68837251]\n",
      " [ 0.64537489  3.70582348]\n",
      " [ 1.40457611 -0.2754758 ]\n",
      " [ 2.47438034  0.96840133]\n",
      " [ 1.2613632   4.86904586]\n",
      " [ 2.2792072   0.81914335]\n",
      " [ 2.56737274 -0.39590118]\n",
      " [-3.00135965  2.53550306]\n",
      " [ 1.29971052  0.56962391]\n",
      " [-2.04883088  2.60511956]\n",
      " [-2.94173477  3.2022677 ]\n",
      " [-0.97504948  3.95935924]\n",
      " [ 2.47031725  5.02862305]\n",
      " [ 1.96050262  5.26569121]\n",
      " [ 0.43680395  4.32925177]\n",
      " [-0.67209649  2.55517362]\n",
      " [ 0.03777135  5.85868428]\n",
      " [ 1.02948386  4.54576485]\n",
      " [ 0.4688124   4.01359439]\n",
      " [ 1.94896306  0.65943096]\n",
      " [-2.04873889  2.50093081]\n",
      " [-1.65303763  4.72326106]\n",
      " [-1.61533654  3.73402043]\n",
      " [-1.80964941  1.62470291]\n",
      " [ 2.18047275  1.08340849]\n",
      " [ 2.79195458  1.15264578]\n",
      " [ 1.43754273  4.13714832]\n",
      " [ 2.16687183  5.82049867]\n",
      " [-2.59431079  1.84050826]\n",
      " [-0.20839607  3.04926447]\n",
      " [ 0.9537243   4.64645282]\n",
      " [ 1.57741467  0.70732628]\n",
      " [ 1.75992205  0.70616032]\n",
      " [-1.29782906  3.40495733]\n",
      " [ 0.82262991  0.94827326]\n",
      " [ 1.32500974  1.79127669]\n",
      " [-1.49599957  1.59251018]\n",
      " [ 2.00067424  2.26833784]\n",
      " [ 1.80805715 -0.44313939]\n",
      " [ 0.11966798  5.14734871]\n",
      " [ 0.62814724  5.78319831]\n",
      " [-1.84646324  3.21392697]\n",
      " [-0.02596621  4.92577961]\n",
      " [-1.48730803  3.31295168]\n",
      " [ 1.69084152  0.91164699]\n",
      " [ 3.86271468  0.86385794]\n",
      " [ 1.29051152  0.62087824]\n",
      " [-3.6542418   3.40293788]\n",
      " [-2.02937406  2.53306057]\n",
      " [ 1.11821099  3.98236258]\n",
      " [ 0.893695    4.63226613]\n",
      " [ 3.96178334  1.65324725]\n",
      " [ 2.47388885  0.76042659]\n",
      " [ 1.66781904  3.71005531]\n",
      " [ 0.56854833  3.95332789]\n",
      " [-1.81865885  3.04324535]\n",
      " [ 0.28728953  5.83183929]\n",
      " [ 2.18860632  1.40568881]\n",
      " [-2.45278822  2.66804846]\n",
      " [-0.92915335  1.9667263 ]\n",
      " [ 2.3745046  -1.32041055]\n",
      " [ 0.27963236  3.8407076 ]\n",
      " [ 3.00569136  1.15121775]\n",
      " [ 0.76186738  4.94575244]\n",
      " [ 1.29814339  3.75593925]\n",
      " [-1.62143525  2.3737397 ]\n",
      " [-2.0771741   1.94662034]\n",
      " [ 2.60849852  1.45346297]\n",
      " [ 1.77207239 -0.20229737]\n",
      " [ 2.20249345  5.47927434]\n",
      " [-1.91062866  3.4141689 ]\n",
      " [ 0.43830172  4.0161448 ]\n",
      " [-1.63386526  3.78007731]\n",
      " [-0.3278886   4.67401313]\n",
      " [ 2.9349952   1.42187464]\n",
      " [ 0.25989683  4.61330933]\n",
      " [-1.06612177  4.8266822 ]\n",
      " [ 1.46361712  2.13207534]\n",
      " [ 0.56762597  3.35928158]\n",
      " [-0.43527853  2.36632291]\n",
      " [ 1.00254159  0.52839598]\n",
      " [-0.35364104  3.59992381]\n",
      " [ 0.66640862  4.06194513]\n",
      " [ 1.33136066  4.57072679]\n",
      " [ 1.88779063  3.31592667]\n",
      " [ 2.81480417  0.96770465]\n",
      " [-2.00582716  2.02516467]\n",
      " [-1.5394497   3.0466248 ]\n",
      " [ 1.57821629  0.85560982]\n",
      " [ 1.68439074  1.28284884]\n",
      " [-1.01225244  1.66138353]\n",
      " [ 1.2774105   3.42426669]\n",
      " [ 1.5453179   0.57984621]\n",
      " [ 0.13742771  3.16777298]\n",
      " [-2.93161648  3.27862983]\n",
      " [ 0.50624368  1.04868654]\n",
      " [-2.42836466  2.33334006]\n",
      " [ 1.46753357  5.04155266]\n",
      " [-1.30255065  2.12338337]\n",
      " [ 1.22787325  1.44293927]\n",
      " [ 0.91601879  0.50300775]\n",
      " [ 0.86226145  1.24917702]\n",
      " [ 1.51410588  4.6297568 ]\n",
      " [ 1.80655858  0.97558379]\n",
      " [ 1.9765055   0.36688103]\n",
      " [ 1.73634081  4.18270156]\n",
      " [ 1.25509524 -0.33815322]\n",
      " [-1.13191059  2.82499911]\n",
      " [-1.63566377  3.82739535]\n",
      " [-1.87964212  2.69359787]\n",
      " [ 2.17153334  4.13966072]\n",
      " [ 1.10418012  0.49221058]\n",
      " [ 2.74073201  0.37684319]\n",
      " [ 0.72702805  4.3487196 ]\n",
      " [-2.09066423  3.67249084]\n",
      " [-2.57212549  4.24438681]\n",
      " [ 1.17176085  0.93939572]\n",
      " [ 0.46759322  4.84493396]\n",
      " [ 2.02384127 -0.03681114]\n",
      " [-2.36310671  3.88679849]\n",
      " [-2.08054389  4.1469839 ]\n",
      " [-2.3153126   1.74041426]\n",
      " [ 1.55954253  4.40697366]\n",
      " [ 3.78585628  1.96688602]\n",
      " [ 2.67269996  1.55646698]\n",
      " [ 1.62097834  1.2305037 ]\n",
      " [ 0.42061579  4.1840797 ]\n",
      " [ 0.04415021  5.02444852]\n",
      " [ 0.31622934  2.0698696 ]\n",
      " [-0.853599    2.7183154 ]\n",
      " [-1.30729093  2.20515019]\n",
      " [-1.83480786  2.99336353]\n",
      " [ 1.91929374  4.15984746]\n",
      " [-0.04011792  5.07930469]\n",
      " [ 2.03580662  0.30723893]\n",
      " [-0.91357347  3.20291652]\n",
      " [ 2.04165119  1.20098505]\n",
      " [ 1.02098199  1.11130436]\n",
      " [ 0.26604148  2.71915015]\n",
      " [ 2.55545268 -0.38398246]\n",
      " [-0.38874607  5.86440764]\n",
      " [ 2.97713277  1.76135853]\n",
      " [-0.99379755  2.54930643]\n",
      " [-0.96813829  2.92089897]\n",
      " [ 2.48279064  3.22558008]\n",
      " [-2.88538867  3.22770664]\n",
      " [ 0.36033722  4.73518668]\n",
      " [ 1.07491911  1.57315404]\n",
      " [ 1.14289006  5.08509856]\n",
      " [-1.74109084  2.0154732 ]\n",
      " [ 2.39627451  1.43919009]\n",
      " [ 3.61999737  1.20973832]\n",
      " [ 3.25085516 -0.75832436]\n",
      " [ 2.79207378  3.14029479]\n",
      " [-2.10258752  2.26748787]\n",
      " [ 1.1372926   0.54740762]\n",
      " [ 1.09150494  5.46720613]\n",
      " [ 2.5146237   5.48819916]\n",
      " [-0.78142531  3.18985425]\n",
      " [-1.7603739   2.30868849]\n",
      " [ 0.7889168   1.38596716]\n",
      " [ 1.41253979  0.34602384]\n",
      " [ 1.13032158  1.52262214]\n",
      " [ 2.95657626  0.03371845]\n",
      " [-2.07411273  4.2455229 ]\n",
      " [ 2.78341065  1.15143823]\n",
      " [ 1.22672424  3.62051074]\n",
      " [ 1.47478962 -0.2090275 ]] [2 0 0 2 0 2 1 1 0 2 0 2 0 0 0 2 1 1 0 2 2 1 0 0 2 0 1 2 2 2 0 0 2 0 1 1 0\n",
      " 1 1 2 1 2 2 2 0 0 0 2 0 0 0 1 2 2 2 2 1 1 0 0 2 2 0 1 1 2 1 1 2 1 1 0 0 2\n",
      " 0 2 1 1 1 2 2 0 0 1 1 0 0 2 0 1 2 2 1 0 1 0 0 2 2 1 1 0 2 0 2 0 1 0 0 1 0\n",
      " 2 1 2 0 0 0 1 2 2 1 1 2 0 1 0 2 1 2 0 2 1 1 1 0 1 1 0 1 2 2 2 0 1 1 0 2 2\n",
      " 1 0 1 2 2 2 0 1 1 1 0 0 2 2 2 2 0 0 1 2 1 1 0 1 0 1 2 2 0 2 0 1 0 2 1 1 1\n",
      " 0 2 1 0 0 2 2 1 1 1 1 2 1 0 1]\n",
      "[0 1 2] [67 67 66]\n"
     ]
    }
   ],
   "source": [
    "from sklearn.datasets import make_blobs\n",
    "X, y = make_blobs(n_samples=200, n_features=2, centers=3, cluster_std=0.8, random_state=0)\n",
    "print(X.shape, y.shape)\n",
    "print(X,y)\n",
    "#y target 값의 분포를 확인\n",
    "unique, counts = np.unique(y, return_counts=True)\n",
    "print(unique,counts)"
   ]
  },
  {
   "cell_type": "code",
   "execution_count": 8,
   "metadata": {},
   "outputs": [
    {
     "data": {
      "text/html": [
       "<div>\n",
       "<style scoped>\n",
       "    .dataframe tbody tr th:only-of-type {\n",
       "        vertical-align: middle;\n",
       "    }\n",
       "\n",
       "    .dataframe tbody tr th {\n",
       "        vertical-align: top;\n",
       "    }\n",
       "\n",
       "    .dataframe thead th {\n",
       "        text-align: right;\n",
       "    }\n",
       "</style>\n",
       "<table border=\"1\" class=\"dataframe\">\n",
       "  <thead>\n",
       "    <tr style=\"text-align: right;\">\n",
       "      <th></th>\n",
       "      <th>ftr1</th>\n",
       "      <th>ftr2</th>\n",
       "      <th>target</th>\n",
       "    </tr>\n",
       "  </thead>\n",
       "  <tbody>\n",
       "    <tr>\n",
       "      <th>0</th>\n",
       "      <td>-1.692427</td>\n",
       "      <td>3.622025</td>\n",
       "      <td>2</td>\n",
       "    </tr>\n",
       "    <tr>\n",
       "      <th>1</th>\n",
       "      <td>0.697940</td>\n",
       "      <td>4.428867</td>\n",
       "      <td>0</td>\n",
       "    </tr>\n",
       "    <tr>\n",
       "      <th>2</th>\n",
       "      <td>1.100228</td>\n",
       "      <td>4.606317</td>\n",
       "      <td>0</td>\n",
       "    </tr>\n",
       "  </tbody>\n",
       "</table>\n",
       "</div>"
      ],
      "text/plain": [
       "       ftr1      ftr2  target\n",
       "0 -1.692427  3.622025       2\n",
       "1  0.697940  4.428867       0\n",
       "2  1.100228  4.606317       0"
      ]
     },
     "execution_count": 8,
     "metadata": {},
     "output_type": "execute_result"
    }
   ],
   "source": [
    "import pandas as pd\n",
    "clusterDF = pd.DataFrame(data=X, columns=['ftr1', 'ftr2'])\n",
    "clusterDF['target'] = y\n",
    "clusterDF.head(3)"
   ]
  },
  {
   "cell_type": "code",
   "execution_count": 9,
   "metadata": {},
   "outputs": [
    {
     "data": {
      "image/png": "[encoded data removed]",
      "text/plain": [
       "<Figure size 432x288 with 1 Axes>"
      ]
     },
     "metadata": {
      "needs_background": "light"
     },
     "output_type": "display_data"
    }
   ],
   "source": [
    "target_list = np.unique(y)\n",
    "#각 타깃별 산점도의 마커 값\n",
    "markers=['o','s', '^', 'P', 'D', 'H', 'x']\n",
    "# 3개의 군집 영역으로 구분한 데이터 세트를 생성했으므로 target_list는 [0, 1, 2]\n",
    "# target == 0, target == 1, target == 2 로 scatter plot을 amrker별로 생성.\n",
    "for target in target_list:\n",
    "    target_cluster = clusterDF[clusterDF['target']==target]\n",
    "    plt.scatter(x=target_cluster['ftr1'], y= target_cluster['ftr2'], edgecolor='k',marker=markers[target])\n",
    "plt.show()"
   ]
  },
  {
   "cell_type": "code",
   "execution_count": 14,
   "metadata": {},
   "outputs": [
    {
     "name": "stdout",
     "output_type": "stream",
     "text": [
      "[2 0 0 2 0 2 1 1 0 2 0 2 0 0 0 2 1 1 0 2 2 1 0 0 2 0 1 2 2 2 0 0 2 0 1 1 0\n",
      " 1 1 2 1 2 2 2 0 0 0 2 0 0 0 1 2 2 2 2 1 1 0 0 2 2 0 1 1 2 1 1 2 1 1 0 0 2\n",
      " 0 2 1 1 1 2 2 0 0 1 1 0 0 2 0 1 2 2 1 0 1 0 0 2 2 1 1 0 2 0 2 0 1 0 2 1 0\n",
      " 2 1 2 0 0 0 1 2 2 1 1 2 0 1 0 2 1 2 0 2 1 1 1 0 1 1 0 1 2 2 2 0 1 1 0 2 2\n",
      " 1 0 1 2 2 2 0 1 1 1 0 0 1 2 2 2 0 0 1 2 1 1 0 1 0 1 2 2 0 2 0 1 0 2 1 1 1\n",
      " 0 2 1 0 0 2 2 1 1 1 1 2 1 0 1]\n",
      "[0 1 2]\n"
     ]
    },
    {
     "data": {
      "image/png": "[encoded data removed]",
      "text/plain": [
       "<Figure size 432x288 with 1 Axes>"
      ]
     },
     "metadata": {
      "needs_background": "light"
     },
     "output_type": "display_data"
    }
   ],
   "source": [
    "# KMeans 객체를 이용해 X데이터를 K-Means 클러스터링 수행\n",
    "kmeans = KMeans(n_clusters=3,init='k-means++', max_iter=200, random_state=0)\n",
    "cluster_labels = kmeans.fit_predict(X)\n",
    "print(cluster_labels)\n",
    "clusterDF['kmeans_label'] = cluster_labels\n",
    "\n",
    "#cluster_centers_는 개별 클러스터의 중심 위치 좌표 시각화를 위해 추출\n",
    "centers = kmeans.cluster_centers_\n",
    "unique_labels = np.unique(cluster_labels)\n",
    "print(unique_labels)\n",
    "markers = ['o','s','^','P','D','H','x']\n",
    "\n",
    "#군집된 label 유형별로 iteratuion 하면서 marker 별로 scatter plot 수행\n",
    "for label in unique_labels:\n",
    "    label_cluster = clusterDF[clusterDF['kmeans_label']==label]\n",
    "    center_x_y = centers[label]\n",
    "    plt.scatter(x=label_cluster['ftr1'], y = label_cluster['ftr2'], edgecolor='k', marker=markers[label])\n",
    "    \n",
    "    #군집별 중심 위치 좌표 시각화\n",
    "    plt.scatter(x=center_x_y[0], y = center_x_y[1], s=200, color='white', alpha=0.9, edgecolor='k', marker=markers[label])\n",
    "    plt.scatter(x=center_x_y[0], y = center_x_y[1], s=70, color='k', edgecolor='k', marker='$%d$'%label)\n",
    "    \n",
    "plt.show()"
   ]
  },
  {
   "cell_type": "markdown",
   "metadata": {},
   "source": [
    "### 7-2 균집평가"
   ]
  },
  {
   "cell_type": "code",
   "execution_count": null,
   "metadata": {},
   "outputs": [],
   "source": [
    "#실루엣 분석 평가 지표 값을 구하기 위한 API 추가\n",
    "from sklearn.metrics import silhouette_samples, silhouette_score\n",
    "\n",
    "\n",
    "\n"
   ]
  },
  {
   "cell_type": "code",
   "execution_count": 58,
   "metadata": {},
   "outputs": [
    {
     "name": "stdout",
     "output_type": "stream",
     "text": [
      "target  dbscan_cluster\n",
      "0        0                49\n",
      "        -1                 1\n",
      "1        1                46\n",
      "        -1                 4\n",
      "2        1                42\n",
      "        -1                 8\n",
      "Name: dbscan_cluster, dtype: int64\n"
     ]
    }
   ],
   "source": [
    "from sklearn.cluster import DBSCAN\n",
    "\n",
    "dbscan = DBSCAN(eps=0.6, min_samples=8, metric='euclidean')\n",
    "dbscan_labels = dbscan.fit_predict(iris.data)\n",
    "irisDF['dbscan_cluster'] =dbscan_labels\n",
    "irisDF['target'] =iris.target\n",
    "\n",
    "iris_result = irisDF.groupby(['target'])['dbscan_cluster'].value_counts()\n",
    "print(iris_result)"
   ]
  },
  {
   "cell_type": "code",
   "execution_count": null,
   "metadata": {},
   "outputs": [],
   "source": []
  }
 ],
 "metadata": {
  "kernelspec": {
   "display_name": "Python 3",
   "language": "python",
   "name": "python3"
  },
  "language_info": {
   "codemirror_mode": {
    "name": "ipython",
    "version": 3
   },
   "file_extension": ".py",
   "mimetype": "text/x-python",
   "name": "python",
   "nbconvert_exporter": "python",
   "pygments_lexer": "ipython3",
   "version": "3.7.6"
  }
 },
 "nbformat": 4,
 "nbformat_minor": 4
}
